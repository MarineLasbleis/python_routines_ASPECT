{
 "cells": [
  {
   "cell_type": "code",
   "execution_count": 1,
   "metadata": {
    "collapsed": true
   },
   "outputs": [],
   "source": [
    "import numpy as np\n",
    "import matplotlib.pyplot as plt\n",
    "import matplotlib.gridspec as gridspec\n",
    "import pandas as pd\n",
    "import os\n",
    "\n",
    "#  %matplotlib inline  \n"
   ]
  },
  {
   "cell_type": "markdown",
   "metadata": {},
   "source": [
    "\n",
    "First functions: look at statistics file, and get a couple of info on the velocity, temperature, etc. \n",
    "Second set of functions: read the parameter file and extract everything from it in a dictionnary. (Be careful, as outputs are strings, not numbers.)\n",
    "\n",
    "\n",
    "Important points to check: is the system stable enough? Is it in steady state? Are the velocity reasonnable?"
   ]
  },
  {
   "cell_type": "code",
   "execution_count": 2,
   "metadata": {
    "collapsed": false
   },
   "outputs": [],
   "source": [
    "def open_statistics(fname):\n",
    "    \"\"\" Open the statistics file output by CIG-ASPECT\n",
    "    \n",
    "    return a pandas table, where names are taken from the statistics file.\n",
    "    \"\"\"\n",
    "    # header:\n",
    "    header = []\n",
    "    header_read = True\n",
    "\n",
    "    with open(fname) as f:\n",
    "        while header_read :\n",
    "            line = f.readline()\n",
    "            if line[0] == '#':\n",
    "                header.append(line[2:-1])\n",
    "            else:\n",
    "                header_read = False\n",
    "                \n",
    "    # data\n",
    "    values = pd.read_csv(fname, skiprows=len(header), header=None, delim_whitespace=True, names=header)\n",
    "    return values\n",
    "\n",
    "\n",
    "\n",
    "def plot_statistics(fname, output={}):\n",
    "    \"\"\" Plot the required fields from statistics file output by CIG-ASPECT \n",
    "    \n",
    "    By default, output is (as function of time step)\n",
    "     - first subfigure with: '12: RMS velocity (m/s)', '13: Max. velocity (m/s)'\n",
    "     - second with '14: Minimal temperature (K)', '15: Average temperature (K)', '16: Maximal temperature (K)'\n",
    "     - third with '2: Time (seconds)'\n",
    "     \n",
    "     Any provided output will be added as an additional subfigure (all outputs on same subfigure)\n",
    "    \"\"\"\n",
    "    \n",
    "    values = open_statistics(fname)\n",
    "    \n",
    "    if len(output) == 0:\n",
    "        fig, ax = plt.subplots(3,1,  figsize=[10,10], sharex = True)\n",
    "    else:\n",
    "        fig, ax = plt.subplots(4,1,  figsize=[12,10], sharex = True)\n",
    "        \n",
    "        \n",
    "    Velocities = [\"RMS velocity (m/s)\", \"Max. velocity (m/s)\"]\n",
    "    Temperatures = [\"Minimal temperature (K)\", \"Average temperature (K)\", \"Maximal temperature (K)\"]\n",
    "    Time = \"Time (seconds)\"\n",
    "    \n",
    "    header = values.columns.values\n",
    "    \n",
    "\n",
    "    for name in header: \n",
    "        \n",
    "        for v in Velocities:\n",
    "            if name[-len(v):] == v:\n",
    "                values.plot(x=header[0], y=name, ax=ax[0])\n",
    "        for t in Temperatures:\n",
    "            if name[-len(t):] == t:\n",
    "                values.plot(x=header[0], y=name, ax=ax[1])\n",
    "        if name[-len(Time):] == Time:\n",
    "            values.plot(x=header[0], y=name, ax=ax[2])\n",
    "    \n",
    "    return fig, ax\n",
    "\n"
   ]
  },
  {
   "cell_type": "code",
   "execution_count": null,
   "metadata": {
    "collapsed": false
   },
   "outputs": [],
   "source": [
    "\n"
   ]
  },
  {
   "cell_type": "code",
   "execution_count": 3,
   "metadata": {
    "collapsed": false
   },
   "outputs": [
    {
     "name": "stdout",
     "output_type": "stream",
     "text": [
      "Feb28/P1e4_Ra1e4/output-noPT\n",
      "Feb28/P1e4_Ra1e4/output-PT_+dTdP\n",
      "Feb28/P1e4_Ra1e4/output-PT_-dTdP\n",
      "Feb28/P1e4_Ra1e4/output-PT_2\n",
      "Feb28/P1e4_Ra1e4/output-PT_3\n",
      "Feb28/P1e4_Ra1e5/output-+PT\n",
      "Feb28/P1e4_Ra1e5/output--PT\n",
      "Feb28/P1e4_Ra1e5/output-noPT\n"
     ]
    }
   ],
   "source": [
    "#mypath = 'Regim_Diagram_2D'\n",
    "mypath = 'Feb28'\n",
    "\n",
    "for (dirpath, dirnames, filenames) in os.walk(mypath):\n",
    "    for file in filenames:\n",
    "        if file == 'statistics':\n",
    "            print(dirpath)\n",
    "            fig, ax = plot_statistics(dirpath+'/'+file)\n",
    "            plt.savefig(dirpath+'/statistics.pdf')\n",
    "            plt.close(fig)\n",
    "    "
   ]
  },
  {
   "cell_type": "code",
   "execution_count": 4,
   "metadata": {
    "collapsed": true
   },
   "outputs": [],
   "source": []
  },
  {
   "cell_type": "code",
   "execution_count": 65,
   "metadata": {
    "collapsed": false
   },
   "outputs": [
    {
     "name": "stdout",
     "output_type": "stream",
     "text": [
      "{'Phase transition width': ['0.05'], 'Phase transition temperature': ['0.3'], 'Compute quadratic pressure profile from gravity': ['true'], 'Phase transition Clapeyron slope': ['-1e4'], 'Phase transition density change': ['0.0'], 'Phase transition radius': ['0.0']} {'Function constants': [], 'Variable names': ['x,y'], 'Function expression': ['1e4']}\n",
      "{'Bottom temperature': ['0'], 'Left temperature': ['1'], 'Right temperature': ['0'], 'Top temperature': ['0']}\n"
     ]
    }
   ],
   "source": [
    "file = 'Feb28/P1e4_Ra1e5/output-noPT/parameters.prm'\n",
    "\n",
    "\n",
    "def search(objs, b):\n",
    "    return objs.index(b)\n",
    "   \n",
    "\n",
    "\n",
    "def set_param(line):\n",
    "    \n",
    "    debut = line.index(\"=\")\n",
    "    param_name = line[1:debut]\n",
    "    param_name = ' '.join(word for word in param_name)\n",
    "        \n",
    "    param_value = line[debut+1:]\n",
    "    \n",
    "    if '#' in param_value: \n",
    "        fin = param_value.index(\"#\")\n",
    "        param_value = param_value[:fin]\n",
    "\n",
    "    return param_name, param_value\n",
    "    \n",
    "\n",
    "    \n",
    "    \n",
    "def parameter_file(file):\n",
    "    \"\"\" Read parameter file, and return a dictionnary with all values. \"\"\"\n",
    "    \n",
    "    with open(file) as f:\n",
    "        file_param = f.read().splitlines()\n",
    "\n",
    "    parameters = dict({}) \n",
    "    section = \"\"\n",
    "    for line in file_param:\n",
    "\n",
    "        line = line.split()\n",
    "        if len(line)==0:\n",
    "            pass\n",
    "        elif line[0] == \"#\":\n",
    "            pass\n",
    "        elif line[0] == \"end\":\n",
    "            if \":\" in section:\n",
    "                section = section[:section.rindex(\":\")]\n",
    "            else:    \n",
    "                section = \"\"\n",
    "        elif line[0] == \"subsection\":\n",
    "            name_section = ' '.join(word for word in line[1:])\n",
    "            if section == \"\":\n",
    "                section = name_section\n",
    "            else:\n",
    "                section = section+\": \"+name_section\n",
    "            #print(section)\n",
    "\n",
    "        elif line[0] == 'set':\n",
    "\n",
    "            name, value = set_param(line)\n",
    "            if section == \"\":\n",
    "                parameters[name] = value\n",
    "            else:\n",
    "                if section in parameters:\n",
    "                    parameters[section][name] = value\n",
    "                else:\n",
    "                    parameters[section] = dict({})\n",
    "                    parameters[section][name] = value\n",
    "    return parameters\n",
    "\n"
   ]
  },
  {
   "cell_type": "code",
   "execution_count": null,
   "metadata": {
    "collapsed": true
   },
   "outputs": [],
   "source": []
  }
 ],
 "metadata": {
  "kernelspec": {
   "display_name": "Python 3",
   "language": "python",
   "name": "python3"
  },
  "language_info": {
   "codemirror_mode": {
    "name": "ipython",
    "version": 3
   },
   "file_extension": ".py",
   "mimetype": "text/x-python",
   "name": "python",
   "nbconvert_exporter": "python",
   "pygments_lexer": "ipython3",
   "version": "3.5.1"
  }
 },
 "nbformat": 4,
 "nbformat_minor": 1
}
